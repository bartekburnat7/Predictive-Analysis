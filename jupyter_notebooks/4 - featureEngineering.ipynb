{
 "cells": [
  {
   "cell_type": "markdown",
   "metadata": {},
   "source": [
    "## Change Working Directory"
   ]
  },
  {
   "cell_type": "markdown",
   "metadata": {},
   "source": [
    "The notebooks are stored in a subfolder, therefore when running the notebook in the editor, we need to change the working directory from its current folder to its parent folder\n",
    "\n",
    "We access the current directory with os.getcwd()"
   ]
  },
  {
   "cell_type": "code",
   "execution_count": 1,
   "metadata": {},
   "outputs": [
    {
     "data": {
      "text/plain": [
       "'c:\\\\Users\\\\Bartek\\\\Desktop\\\\Predictive-Analysis\\\\jupyter_notebooks'"
      ]
     },
     "execution_count": 1,
     "metadata": {},
     "output_type": "execute_result"
    }
   ],
   "source": [
    "import os\n",
    "current_dir = os.getcwd()\n",
    "current_dir"
   ]
  },
  {
   "cell_type": "markdown",
   "metadata": {},
   "source": [
    "- We use os.path.dirname() to get the parent directory\n",
    "- Then we call the os.chir() function, which defines the new current directory"
   ]
  },
  {
   "cell_type": "code",
   "execution_count": 2,
   "metadata": {},
   "outputs": [
    {
     "name": "stdout",
     "output_type": "stream",
     "text": [
      "You set a new current directory\n"
     ]
    }
   ],
   "source": [
    "os.chdir(os.path.dirname(current_dir))\n",
    "print(\"You set a new current directory\")"
   ]
  },
  {
   "cell_type": "markdown",
   "metadata": {},
   "source": [
    "Confirm the new current directory"
   ]
  },
  {
   "cell_type": "markdown",
   "metadata": {},
   "source": [
    "# Load Data"
   ]
  },
  {
   "cell_type": "code",
   "execution_count": 3,
   "metadata": {},
   "outputs": [],
   "source": [
    "import pandas as pd\n",
    "loan_data_drop = pd.read_csv(\"outputs/loan_data_drop.csv\")\n",
    "loan_data_mean = pd.read_csv(\"outputs/loan_data_mean.csv\")\n",
    "\n",
    "databases = [loan_data_drop, loan_data_mean]"
   ]
  },
  {
   "cell_type": "markdown",
   "metadata": {},
   "source": [
    "We noticed that the database consists of objects and some float/int values. We will need to convert these values so that we can run a machine learning algorithms on the data."
   ]
  },
  {
   "cell_type": "code",
   "execution_count": 4,
   "metadata": {},
   "outputs": [
    {
     "name": "stdout",
     "output_type": "stream",
     "text": [
      "<class 'pandas.core.frame.DataFrame'>\n",
      "RangeIndex: 381 entries, 0 to 380\n",
      "Data columns (total 13 columns):\n",
      " #   Column             Non-Null Count  Dtype  \n",
      "---  ------             --------------  -----  \n",
      " 0   Loan_ID            381 non-null    object \n",
      " 1   Gender             381 non-null    int64  \n",
      " 2   Married            381 non-null    int64  \n",
      " 3   Dependents         381 non-null    int64  \n",
      " 4   Education          381 non-null    int64  \n",
      " 5   Self_Employed      381 non-null    int64  \n",
      " 6   ApplicantIncome    381 non-null    int64  \n",
      " 7   CoapplicantIncome  381 non-null    float64\n",
      " 8   LoanAmount         381 non-null    float64\n",
      " 9   Loan_Amount_Term   381 non-null    float64\n",
      " 10  Credit_History     381 non-null    float64\n",
      " 11  Property_Area      381 non-null    int64  \n",
      " 12  Loan_Status        381 non-null    int64  \n",
      "dtypes: float64(4), int64(8), object(1)\n",
      "memory usage: 38.8+ KB\n",
      "<class 'pandas.core.frame.DataFrame'>\n",
      "RangeIndex: 381 entries, 0 to 380\n",
      "Data columns (total 13 columns):\n",
      " #   Column             Non-Null Count  Dtype  \n",
      "---  ------             --------------  -----  \n",
      " 0   Loan_ID            381 non-null    object \n",
      " 1   Gender             381 non-null    int64  \n",
      " 2   Married            381 non-null    int64  \n",
      " 3   Dependents         381 non-null    int64  \n",
      " 4   Education          381 non-null    int64  \n",
      " 5   Self_Employed      381 non-null    int64  \n",
      " 6   ApplicantIncome    381 non-null    int64  \n",
      " 7   CoapplicantIncome  381 non-null    float64\n",
      " 8   LoanAmount         381 non-null    float64\n",
      " 9   Loan_Amount_Term   381 non-null    float64\n",
      " 10  Credit_History     381 non-null    float64\n",
      " 11  Property_Area      381 non-null    int64  \n",
      " 12  Loan_Status        381 non-null    int64  \n",
      "dtypes: float64(4), int64(8), object(1)\n",
      "memory usage: 38.8+ KB\n"
     ]
    }
   ],
   "source": [
    "for loan_data in databases:\n",
    "    loan_data['Married'] = loan_data['Married'].map({'No': 0, 'Yes': 1})\n",
    "    loan_data['Gender'] = loan_data['Gender'].map({'Female': 0, 'Male': 1})\n",
    "    loan_data['Education'] = loan_data['Education'].map({'Not Graduate': 0, 'Graduate': 1})\n",
    "    loan_data['Self_Employed'] = loan_data['Self_Employed'].map({'No': 0, 'Yes': 1})\n",
    "    loan_data['Property_Area'] = loan_data['Property_Area'].map({'Rural': 0, 'Semiurban': 1, 'Urban': 2})\n",
    "    loan_data['Loan_Status'] = loan_data['Loan_Status'].map({'N': 0, 'Y': 1})\n",
    "    loan_data['Dependents'] = loan_data['Dependents'].map({'0': 0, '1' : 1, '2': 1, '3+': 2})\n",
    "    loan_data.info()\n",
    "    loan_data.head()"
   ]
  },
  {
   "cell_type": "code",
   "execution_count": 5,
   "metadata": {},
   "outputs": [],
   "source": [
    "from sklearn.metrics import classification_report\n",
    "from imblearn.over_sampling import RandomOverSampler\n",
    "\n",
    "ros = RandomOverSampler(random_state=42)\n",
    "\n",
    "resampled_databases = []\n",
    "for data in databases:\n",
    "    data.drop(columns=['Loan_ID'], inplace=True)\n",
    "    X = data.drop(columns=['Loan_Status'])\n",
    "    y = data['Loan_Status']\n",
    "    X_resampled, y_resampled = ros.fit_resample(X, y)\n",
    "    resampled_data = pd.concat([pd.DataFrame(X_resampled),\n",
    "                                pd.DataFrame(y_resampled,columns=['Loan_Status'])], axis=1)\n",
    "    resampled_databases.append(resampled_data)\n"
   ]
  },
  {
   "cell_type": "markdown",
   "metadata": {},
   "source": [
    "Resample datasets and evaluate the performance of multiple classifiers, including Logistic Regression, Decision Tree, Random Forest, Support Vector Machine, and K-Nearest Neighbors, on each dataset. I will prepare the data by extracting features and target variables, splits the dataset into training and testing sets, trains each classifier on the training data, and evaluates its accuracy on the test set. If a classifier achieves an accuracy greater than 0.8, it prints out the classifier's name and its corresponding accuracy. This process helps identify classifiers that perform well on imbalanced datasets, particularly after applying resampling techniques to address class imbalances."
   ]
  },
  {
   "cell_type": "code",
   "execution_count": 12,
   "metadata": {},
   "outputs": [
    {
     "name": "stderr",
     "output_type": "stream",
     "text": [
      "c:\\Users\\Bartek\\Desktop\\Predictive-Analysis\\.venv\\Lib\\site-packages\\sklearn\\linear_model\\_logistic.py:469: ConvergenceWarning: lbfgs failed to converge (status=1):\n",
      "STOP: TOTAL NO. of ITERATIONS REACHED LIMIT.\n",
      "\n",
      "Increase the number of iterations (max_iter) or scale the data as shown in:\n",
      "    https://scikit-learn.org/stable/modules/preprocessing.html\n",
      "Please also refer to the documentation for alternative solver options:\n",
      "    https://scikit-learn.org/stable/modules/linear_model.html#logistic-regression\n",
      "  n_iter_i = _check_optimize_result(\n"
     ]
    },
    {
     "name": "stdout",
     "output_type": "stream",
     "text": [
      "Accuracy of Decision Tree: 0.8991\n",
      "--------------------------------------------------\n",
      "              precision    recall  f1-score   support\n",
      "\n",
      "           0       0.88      0.93      0.90        55\n",
      "           1       0.92      0.87      0.90        54\n",
      "\n",
      "    accuracy                           0.90       109\n",
      "   macro avg       0.90      0.90      0.90       109\n",
      "weighted avg       0.90      0.90      0.90       109\n",
      "\n",
      "Accuracy of Random Forest: 0.9083\n",
      "--------------------------------------------------\n",
      "              precision    recall  f1-score   support\n",
      "\n",
      "           0       0.89      0.93      0.91        55\n",
      "           1       0.92      0.89      0.91        54\n",
      "\n",
      "    accuracy                           0.91       109\n",
      "   macro avg       0.91      0.91      0.91       109\n",
      "weighted avg       0.91      0.91      0.91       109\n",
      "\n",
      "Accuracy of Decision Tree: 0.8899\n",
      "--------------------------------------------------\n",
      "              precision    recall  f1-score   support\n",
      "\n",
      "           0       0.86      0.93      0.89        55\n",
      "           1       0.92      0.85      0.88        54\n",
      "\n",
      "    accuracy                           0.89       109\n",
      "   macro avg       0.89      0.89      0.89       109\n",
      "weighted avg       0.89      0.89      0.89       109\n",
      "\n"
     ]
    },
    {
     "name": "stderr",
     "output_type": "stream",
     "text": [
      "c:\\Users\\Bartek\\Desktop\\Predictive-Analysis\\.venv\\Lib\\site-packages\\sklearn\\linear_model\\_logistic.py:469: ConvergenceWarning: lbfgs failed to converge (status=1):\n",
      "STOP: TOTAL NO. of ITERATIONS REACHED LIMIT.\n",
      "\n",
      "Increase the number of iterations (max_iter) or scale the data as shown in:\n",
      "    https://scikit-learn.org/stable/modules/preprocessing.html\n",
      "Please also refer to the documentation for alternative solver options:\n",
      "    https://scikit-learn.org/stable/modules/linear_model.html#logistic-regression\n",
      "  n_iter_i = _check_optimize_result(\n"
     ]
    },
    {
     "name": "stdout",
     "output_type": "stream",
     "text": [
      "Accuracy of Random Forest: 0.9174\n",
      "--------------------------------------------------\n",
      "              precision    recall  f1-score   support\n",
      "\n",
      "           0       0.91      0.93      0.92        55\n",
      "           1       0.92      0.91      0.92        54\n",
      "\n",
      "    accuracy                           0.92       109\n",
      "   macro avg       0.92      0.92      0.92       109\n",
      "weighted avg       0.92      0.92      0.92       109\n",
      "\n",
      "Accuracy of Decision Tree: 0.9083\n",
      "--------------------------------------------------\n",
      "              precision    recall  f1-score   support\n",
      "\n",
      "           0       0.89      0.93      0.91        55\n",
      "           1       0.92      0.89      0.91        54\n",
      "\n",
      "    accuracy                           0.91       109\n",
      "   macro avg       0.91      0.91      0.91       109\n",
      "weighted avg       0.91      0.91      0.91       109\n",
      "\n"
     ]
    },
    {
     "name": "stderr",
     "output_type": "stream",
     "text": [
      "c:\\Users\\Bartek\\Desktop\\Predictive-Analysis\\.venv\\Lib\\site-packages\\sklearn\\linear_model\\_logistic.py:469: ConvergenceWarning: lbfgs failed to converge (status=1):\n",
      "STOP: TOTAL NO. of ITERATIONS REACHED LIMIT.\n",
      "\n",
      "Increase the number of iterations (max_iter) or scale the data as shown in:\n",
      "    https://scikit-learn.org/stable/modules/preprocessing.html\n",
      "Please also refer to the documentation for alternative solver options:\n",
      "    https://scikit-learn.org/stable/modules/linear_model.html#logistic-regression\n",
      "  n_iter_i = _check_optimize_result(\n"
     ]
    },
    {
     "name": "stdout",
     "output_type": "stream",
     "text": [
      "Accuracy of Random Forest: 0.9174\n",
      "--------------------------------------------------\n",
      "              precision    recall  f1-score   support\n",
      "\n",
      "           0       0.91      0.93      0.92        55\n",
      "           1       0.92      0.91      0.92        54\n",
      "\n",
      "    accuracy                           0.92       109\n",
      "   macro avg       0.92      0.92      0.92       109\n",
      "weighted avg       0.92      0.92      0.92       109\n",
      "\n",
      "Accuracy of Decision Tree: 0.8991\n",
      "--------------------------------------------------\n",
      "              precision    recall  f1-score   support\n",
      "\n",
      "           0       0.88      0.93      0.90        55\n",
      "           1       0.92      0.87      0.90        54\n",
      "\n",
      "    accuracy                           0.90       109\n",
      "   macro avg       0.90      0.90      0.90       109\n",
      "weighted avg       0.90      0.90      0.90       109\n",
      "\n"
     ]
    },
    {
     "name": "stderr",
     "output_type": "stream",
     "text": [
      "c:\\Users\\Bartek\\Desktop\\Predictive-Analysis\\.venv\\Lib\\site-packages\\sklearn\\linear_model\\_logistic.py:469: ConvergenceWarning: lbfgs failed to converge (status=1):\n",
      "STOP: TOTAL NO. of ITERATIONS REACHED LIMIT.\n",
      "\n",
      "Increase the number of iterations (max_iter) or scale the data as shown in:\n",
      "    https://scikit-learn.org/stable/modules/preprocessing.html\n",
      "Please also refer to the documentation for alternative solver options:\n",
      "    https://scikit-learn.org/stable/modules/linear_model.html#logistic-regression\n",
      "  n_iter_i = _check_optimize_result(\n"
     ]
    },
    {
     "name": "stdout",
     "output_type": "stream",
     "text": [
      "Accuracy of Random Forest: 0.9174\n",
      "--------------------------------------------------\n",
      "              precision    recall  f1-score   support\n",
      "\n",
      "           0       0.91      0.93      0.92        55\n",
      "           1       0.92      0.91      0.92        54\n",
      "\n",
      "    accuracy                           0.92       109\n",
      "   macro avg       0.92      0.92      0.92       109\n",
      "weighted avg       0.92      0.92      0.92       109\n",
      "\n",
      "Accuracy of Decision Tree: 0.8991\n",
      "--------------------------------------------------\n",
      "              precision    recall  f1-score   support\n",
      "\n",
      "           0       0.88      0.93      0.90        55\n",
      "           1       0.92      0.87      0.90        54\n",
      "\n",
      "    accuracy                           0.90       109\n",
      "   macro avg       0.90      0.90      0.90       109\n",
      "weighted avg       0.90      0.90      0.90       109\n",
      "\n"
     ]
    },
    {
     "name": "stderr",
     "output_type": "stream",
     "text": [
      "c:\\Users\\Bartek\\Desktop\\Predictive-Analysis\\.venv\\Lib\\site-packages\\sklearn\\linear_model\\_logistic.py:469: ConvergenceWarning: lbfgs failed to converge (status=1):\n",
      "STOP: TOTAL NO. of ITERATIONS REACHED LIMIT.\n",
      "\n",
      "Increase the number of iterations (max_iter) or scale the data as shown in:\n",
      "    https://scikit-learn.org/stable/modules/preprocessing.html\n",
      "Please also refer to the documentation for alternative solver options:\n",
      "    https://scikit-learn.org/stable/modules/linear_model.html#logistic-regression\n",
      "  n_iter_i = _check_optimize_result(\n"
     ]
    },
    {
     "name": "stdout",
     "output_type": "stream",
     "text": [
      "Accuracy of Random Forest: 0.9266\n",
      "--------------------------------------------------\n",
      "              precision    recall  f1-score   support\n",
      "\n",
      "           0       0.93      0.93      0.93        55\n",
      "           1       0.93      0.93      0.93        54\n",
      "\n",
      "    accuracy                           0.93       109\n",
      "   macro avg       0.93      0.93      0.93       109\n",
      "weighted avg       0.93      0.93      0.93       109\n",
      "\n",
      "Accuracy of Decision Tree: 0.9083\n",
      "--------------------------------------------------\n",
      "              precision    recall  f1-score   support\n",
      "\n",
      "           0       0.89      0.93      0.91        55\n",
      "           1       0.92      0.89      0.91        54\n",
      "\n",
      "    accuracy                           0.91       109\n",
      "   macro avg       0.91      0.91      0.91       109\n",
      "weighted avg       0.91      0.91      0.91       109\n",
      "\n"
     ]
    },
    {
     "name": "stderr",
     "output_type": "stream",
     "text": [
      "c:\\Users\\Bartek\\Desktop\\Predictive-Analysis\\.venv\\Lib\\site-packages\\sklearn\\linear_model\\_logistic.py:469: ConvergenceWarning: lbfgs failed to converge (status=1):\n",
      "STOP: TOTAL NO. of ITERATIONS REACHED LIMIT.\n",
      "\n",
      "Increase the number of iterations (max_iter) or scale the data as shown in:\n",
      "    https://scikit-learn.org/stable/modules/preprocessing.html\n",
      "Please also refer to the documentation for alternative solver options:\n",
      "    https://scikit-learn.org/stable/modules/linear_model.html#logistic-regression\n",
      "  n_iter_i = _check_optimize_result(\n"
     ]
    },
    {
     "name": "stdout",
     "output_type": "stream",
     "text": [
      "Accuracy of Random Forest: 0.9266\n",
      "--------------------------------------------------\n",
      "              precision    recall  f1-score   support\n",
      "\n",
      "           0       0.93      0.93      0.93        55\n",
      "           1       0.93      0.93      0.93        54\n",
      "\n",
      "    accuracy                           0.93       109\n",
      "   macro avg       0.93      0.93      0.93       109\n",
      "weighted avg       0.93      0.93      0.93       109\n",
      "\n",
      "Accuracy of Decision Tree: 0.9083\n",
      "--------------------------------------------------\n",
      "              precision    recall  f1-score   support\n",
      "\n",
      "           0       0.89      0.93      0.91        55\n",
      "           1       0.92      0.89      0.91        54\n",
      "\n",
      "    accuracy                           0.91       109\n",
      "   macro avg       0.91      0.91      0.91       109\n",
      "weighted avg       0.91      0.91      0.91       109\n",
      "\n"
     ]
    },
    {
     "name": "stderr",
     "output_type": "stream",
     "text": [
      "c:\\Users\\Bartek\\Desktop\\Predictive-Analysis\\.venv\\Lib\\site-packages\\sklearn\\linear_model\\_logistic.py:469: ConvergenceWarning: lbfgs failed to converge (status=1):\n",
      "STOP: TOTAL NO. of ITERATIONS REACHED LIMIT.\n",
      "\n",
      "Increase the number of iterations (max_iter) or scale the data as shown in:\n",
      "    https://scikit-learn.org/stable/modules/preprocessing.html\n",
      "Please also refer to the documentation for alternative solver options:\n",
      "    https://scikit-learn.org/stable/modules/linear_model.html#logistic-regression\n",
      "  n_iter_i = _check_optimize_result(\n"
     ]
    },
    {
     "name": "stdout",
     "output_type": "stream",
     "text": [
      "Accuracy of Random Forest: 0.9174\n",
      "--------------------------------------------------\n",
      "              precision    recall  f1-score   support\n",
      "\n",
      "           0       0.91      0.93      0.92        55\n",
      "           1       0.92      0.91      0.92        54\n",
      "\n",
      "    accuracy                           0.92       109\n",
      "   macro avg       0.92      0.92      0.92       109\n",
      "weighted avg       0.92      0.92      0.92       109\n",
      "\n",
      "Accuracy of Decision Tree: 0.8991\n",
      "--------------------------------------------------\n",
      "              precision    recall  f1-score   support\n",
      "\n",
      "           0       0.88      0.93      0.90        55\n",
      "           1       0.92      0.87      0.90        54\n",
      "\n",
      "    accuracy                           0.90       109\n",
      "   macro avg       0.90      0.90      0.90       109\n",
      "weighted avg       0.90      0.90      0.90       109\n",
      "\n",
      "Accuracy of Random Forest: 0.9174\n",
      "--------------------------------------------------\n"
     ]
    },
    {
     "name": "stderr",
     "output_type": "stream",
     "text": [
      "c:\\Users\\Bartek\\Desktop\\Predictive-Analysis\\.venv\\Lib\\site-packages\\sklearn\\linear_model\\_logistic.py:469: ConvergenceWarning: lbfgs failed to converge (status=1):\n",
      "STOP: TOTAL NO. of ITERATIONS REACHED LIMIT.\n",
      "\n",
      "Increase the number of iterations (max_iter) or scale the data as shown in:\n",
      "    https://scikit-learn.org/stable/modules/preprocessing.html\n",
      "Please also refer to the documentation for alternative solver options:\n",
      "    https://scikit-learn.org/stable/modules/linear_model.html#logistic-regression\n",
      "  n_iter_i = _check_optimize_result(\n"
     ]
    },
    {
     "name": "stdout",
     "output_type": "stream",
     "text": [
      "              precision    recall  f1-score   support\n",
      "\n",
      "           0       0.91      0.93      0.92        55\n",
      "           1       0.92      0.91      0.92        54\n",
      "\n",
      "    accuracy                           0.92       109\n",
      "   macro avg       0.92      0.92      0.92       109\n",
      "weighted avg       0.92      0.92      0.92       109\n",
      "\n",
      "Accuracy of Decision Tree: 0.9083\n",
      "--------------------------------------------------\n",
      "              precision    recall  f1-score   support\n",
      "\n",
      "           0       0.89      0.93      0.91        55\n",
      "           1       0.92      0.89      0.91        54\n",
      "\n",
      "    accuracy                           0.91       109\n",
      "   macro avg       0.91      0.91      0.91       109\n",
      "weighted avg       0.91      0.91      0.91       109\n",
      "\n"
     ]
    },
    {
     "name": "stderr",
     "output_type": "stream",
     "text": [
      "c:\\Users\\Bartek\\Desktop\\Predictive-Analysis\\.venv\\Lib\\site-packages\\sklearn\\linear_model\\_logistic.py:469: ConvergenceWarning: lbfgs failed to converge (status=1):\n",
      "STOP: TOTAL NO. of ITERATIONS REACHED LIMIT.\n",
      "\n",
      "Increase the number of iterations (max_iter) or scale the data as shown in:\n",
      "    https://scikit-learn.org/stable/modules/preprocessing.html\n",
      "Please also refer to the documentation for alternative solver options:\n",
      "    https://scikit-learn.org/stable/modules/linear_model.html#logistic-regression\n",
      "  n_iter_i = _check_optimize_result(\n",
      "c:\\Users\\Bartek\\Desktop\\Predictive-Analysis\\.venv\\Lib\\site-packages\\sklearn\\linear_model\\_logistic.py:469: ConvergenceWarning: lbfgs failed to converge (status=1):\n",
      "STOP: TOTAL NO. of ITERATIONS REACHED LIMIT.\n",
      "\n",
      "Increase the number of iterations (max_iter) or scale the data as shown in:\n",
      "    https://scikit-learn.org/stable/modules/preprocessing.html\n",
      "Please also refer to the documentation for alternative solver options:\n",
      "    https://scikit-learn.org/stable/modules/linear_model.html#logistic-regression\n",
      "  n_iter_i = _check_optimize_result(\n"
     ]
    },
    {
     "name": "stdout",
     "output_type": "stream",
     "text": [
      "Accuracy of Random Forest: 0.9174\n",
      "--------------------------------------------------\n",
      "              precision    recall  f1-score   support\n",
      "\n",
      "           0       0.91      0.93      0.92        55\n",
      "           1       0.92      0.91      0.92        54\n",
      "\n",
      "    accuracy                           0.92       109\n",
      "   macro avg       0.92      0.92      0.92       109\n",
      "weighted avg       0.92      0.92      0.92       109\n",
      "\n",
      "Accuracy of Decision Tree: 0.8991\n",
      "--------------------------------------------------\n",
      "              precision    recall  f1-score   support\n",
      "\n",
      "           0       0.88      0.93      0.90        55\n",
      "           1       0.92      0.87      0.90        54\n",
      "\n",
      "    accuracy                           0.90       109\n",
      "   macro avg       0.90      0.90      0.90       109\n",
      "weighted avg       0.90      0.90      0.90       109\n",
      "\n",
      "Accuracy of Random Forest: 0.9266\n",
      "--------------------------------------------------\n",
      "              precision    recall  f1-score   support\n",
      "\n",
      "           0       0.93      0.93      0.93        55\n",
      "           1       0.93      0.93      0.93        54\n",
      "\n",
      "    accuracy                           0.93       109\n",
      "   macro avg       0.93      0.93      0.93       109\n",
      "weighted avg       0.93      0.93      0.93       109\n",
      "\n",
      "Accuracy of Decision Tree: 0.8991\n",
      "--------------------------------------------------\n",
      "              precision    recall  f1-score   support\n",
      "\n",
      "           0       0.88      0.93      0.90        55\n",
      "           1       0.92      0.87      0.90        54\n",
      "\n",
      "    accuracy                           0.90       109\n",
      "   macro avg       0.90      0.90      0.90       109\n",
      "weighted avg       0.90      0.90      0.90       109\n",
      "\n"
     ]
    },
    {
     "name": "stderr",
     "output_type": "stream",
     "text": [
      "c:\\Users\\Bartek\\Desktop\\Predictive-Analysis\\.venv\\Lib\\site-packages\\sklearn\\linear_model\\_logistic.py:469: ConvergenceWarning: lbfgs failed to converge (status=1):\n",
      "STOP: TOTAL NO. of ITERATIONS REACHED LIMIT.\n",
      "\n",
      "Increase the number of iterations (max_iter) or scale the data as shown in:\n",
      "    https://scikit-learn.org/stable/modules/preprocessing.html\n",
      "Please also refer to the documentation for alternative solver options:\n",
      "    https://scikit-learn.org/stable/modules/linear_model.html#logistic-regression\n",
      "  n_iter_i = _check_optimize_result(\n"
     ]
    },
    {
     "name": "stdout",
     "output_type": "stream",
     "text": [
      "Accuracy of Random Forest: 0.9358\n",
      "--------------------------------------------------\n",
      "              precision    recall  f1-score   support\n",
      "\n",
      "           0       0.94      0.93      0.94        55\n",
      "           1       0.93      0.94      0.94        54\n",
      "\n",
      "    accuracy                           0.94       109\n",
      "   macro avg       0.94      0.94      0.94       109\n",
      "weighted avg       0.94      0.94      0.94       109\n",
      "\n",
      "Accuracy of Decision Tree: 0.9083\n",
      "--------------------------------------------------\n",
      "              precision    recall  f1-score   support\n",
      "\n",
      "           0       0.89      0.93      0.91        55\n",
      "           1       0.92      0.89      0.91        54\n",
      "\n",
      "    accuracy                           0.91       109\n",
      "   macro avg       0.91      0.91      0.91       109\n",
      "weighted avg       0.91      0.91      0.91       109\n",
      "\n"
     ]
    },
    {
     "name": "stderr",
     "output_type": "stream",
     "text": [
      "c:\\Users\\Bartek\\Desktop\\Predictive-Analysis\\.venv\\Lib\\site-packages\\sklearn\\linear_model\\_logistic.py:469: ConvergenceWarning: lbfgs failed to converge (status=1):\n",
      "STOP: TOTAL NO. of ITERATIONS REACHED LIMIT.\n",
      "\n",
      "Increase the number of iterations (max_iter) or scale the data as shown in:\n",
      "    https://scikit-learn.org/stable/modules/preprocessing.html\n",
      "Please also refer to the documentation for alternative solver options:\n",
      "    https://scikit-learn.org/stable/modules/linear_model.html#logistic-regression\n",
      "  n_iter_i = _check_optimize_result(\n"
     ]
    },
    {
     "name": "stdout",
     "output_type": "stream",
     "text": [
      "Accuracy of Random Forest: 0.9174\n",
      "--------------------------------------------------\n",
      "              precision    recall  f1-score   support\n",
      "\n",
      "           0       0.91      0.93      0.92        55\n",
      "           1       0.92      0.91      0.92        54\n",
      "\n",
      "    accuracy                           0.92       109\n",
      "   macro avg       0.92      0.92      0.92       109\n",
      "weighted avg       0.92      0.92      0.92       109\n",
      "\n",
      "Accuracy of Decision Tree: 0.9083\n",
      "--------------------------------------------------\n",
      "              precision    recall  f1-score   support\n",
      "\n",
      "           0       0.89      0.93      0.91        55\n",
      "           1       0.92      0.89      0.91        54\n",
      "\n",
      "    accuracy                           0.91       109\n",
      "   macro avg       0.91      0.91      0.91       109\n",
      "weighted avg       0.91      0.91      0.91       109\n",
      "\n",
      "Accuracy of Random Forest: 0.9358\n",
      "--------------------------------------------------\n"
     ]
    },
    {
     "name": "stderr",
     "output_type": "stream",
     "text": [
      "c:\\Users\\Bartek\\Desktop\\Predictive-Analysis\\.venv\\Lib\\site-packages\\sklearn\\linear_model\\_logistic.py:469: ConvergenceWarning: lbfgs failed to converge (status=1):\n",
      "STOP: TOTAL NO. of ITERATIONS REACHED LIMIT.\n",
      "\n",
      "Increase the number of iterations (max_iter) or scale the data as shown in:\n",
      "    https://scikit-learn.org/stable/modules/preprocessing.html\n",
      "Please also refer to the documentation for alternative solver options:\n",
      "    https://scikit-learn.org/stable/modules/linear_model.html#logistic-regression\n",
      "  n_iter_i = _check_optimize_result(\n"
     ]
    },
    {
     "name": "stdout",
     "output_type": "stream",
     "text": [
      "              precision    recall  f1-score   support\n",
      "\n",
      "           0       0.94      0.93      0.94        55\n",
      "           1       0.93      0.94      0.94        54\n",
      "\n",
      "    accuracy                           0.94       109\n",
      "   macro avg       0.94      0.94      0.94       109\n",
      "weighted avg       0.94      0.94      0.94       109\n",
      "\n",
      "Accuracy of Decision Tree: 0.8991\n",
      "--------------------------------------------------\n",
      "              precision    recall  f1-score   support\n",
      "\n",
      "           0       0.88      0.93      0.90        55\n",
      "           1       0.92      0.87      0.90        54\n",
      "\n",
      "    accuracy                           0.90       109\n",
      "   macro avg       0.90      0.90      0.90       109\n",
      "weighted avg       0.90      0.90      0.90       109\n",
      "\n"
     ]
    },
    {
     "name": "stderr",
     "output_type": "stream",
     "text": [
      "c:\\Users\\Bartek\\Desktop\\Predictive-Analysis\\.venv\\Lib\\site-packages\\sklearn\\linear_model\\_logistic.py:469: ConvergenceWarning: lbfgs failed to converge (status=1):\n",
      "STOP: TOTAL NO. of ITERATIONS REACHED LIMIT.\n",
      "\n",
      "Increase the number of iterations (max_iter) or scale the data as shown in:\n",
      "    https://scikit-learn.org/stable/modules/preprocessing.html\n",
      "Please also refer to the documentation for alternative solver options:\n",
      "    https://scikit-learn.org/stable/modules/linear_model.html#logistic-regression\n",
      "  n_iter_i = _check_optimize_result(\n"
     ]
    },
    {
     "name": "stdout",
     "output_type": "stream",
     "text": [
      "Accuracy of Random Forest: 0.9358\n",
      "--------------------------------------------------\n",
      "              precision    recall  f1-score   support\n",
      "\n",
      "           0       0.94      0.93      0.94        55\n",
      "           1       0.93      0.94      0.94        54\n",
      "\n",
      "    accuracy                           0.94       109\n",
      "   macro avg       0.94      0.94      0.94       109\n",
      "weighted avg       0.94      0.94      0.94       109\n",
      "\n",
      "Accuracy of Decision Tree: 0.8899\n",
      "--------------------------------------------------\n",
      "              precision    recall  f1-score   support\n",
      "\n",
      "           0       0.86      0.93      0.89        55\n",
      "           1       0.92      0.85      0.88        54\n",
      "\n",
      "    accuracy                           0.89       109\n",
      "   macro avg       0.89      0.89      0.89       109\n",
      "weighted avg       0.89      0.89      0.89       109\n",
      "\n"
     ]
    },
    {
     "name": "stderr",
     "output_type": "stream",
     "text": [
      "c:\\Users\\Bartek\\Desktop\\Predictive-Analysis\\.venv\\Lib\\site-packages\\sklearn\\linear_model\\_logistic.py:469: ConvergenceWarning: lbfgs failed to converge (status=1):\n",
      "STOP: TOTAL NO. of ITERATIONS REACHED LIMIT.\n",
      "\n",
      "Increase the number of iterations (max_iter) or scale the data as shown in:\n",
      "    https://scikit-learn.org/stable/modules/preprocessing.html\n",
      "Please also refer to the documentation for alternative solver options:\n",
      "    https://scikit-learn.org/stable/modules/linear_model.html#logistic-regression\n",
      "  n_iter_i = _check_optimize_result(\n"
     ]
    },
    {
     "name": "stdout",
     "output_type": "stream",
     "text": [
      "Accuracy of Random Forest: 0.9174\n",
      "--------------------------------------------------\n",
      "              precision    recall  f1-score   support\n",
      "\n",
      "           0       0.91      0.93      0.92        55\n",
      "           1       0.92      0.91      0.92        54\n",
      "\n",
      "    accuracy                           0.92       109\n",
      "   macro avg       0.92      0.92      0.92       109\n",
      "weighted avg       0.92      0.92      0.92       109\n",
      "\n",
      "Accuracy of Decision Tree: 0.8991\n",
      "--------------------------------------------------\n",
      "              precision    recall  f1-score   support\n",
      "\n",
      "           0       0.88      0.93      0.90        55\n",
      "           1       0.92      0.87      0.90        54\n",
      "\n",
      "    accuracy                           0.90       109\n",
      "   macro avg       0.90      0.90      0.90       109\n",
      "weighted avg       0.90      0.90      0.90       109\n",
      "\n"
     ]
    },
    {
     "name": "stderr",
     "output_type": "stream",
     "text": [
      "c:\\Users\\Bartek\\Desktop\\Predictive-Analysis\\.venv\\Lib\\site-packages\\sklearn\\linear_model\\_logistic.py:469: ConvergenceWarning: lbfgs failed to converge (status=1):\n",
      "STOP: TOTAL NO. of ITERATIONS REACHED LIMIT.\n",
      "\n",
      "Increase the number of iterations (max_iter) or scale the data as shown in:\n",
      "    https://scikit-learn.org/stable/modules/preprocessing.html\n",
      "Please also refer to the documentation for alternative solver options:\n",
      "    https://scikit-learn.org/stable/modules/linear_model.html#logistic-regression\n",
      "  n_iter_i = _check_optimize_result(\n"
     ]
    },
    {
     "name": "stdout",
     "output_type": "stream",
     "text": [
      "Accuracy of Random Forest: 0.9174\n",
      "--------------------------------------------------\n",
      "              precision    recall  f1-score   support\n",
      "\n",
      "           0       0.91      0.93      0.92        55\n",
      "           1       0.92      0.91      0.92        54\n",
      "\n",
      "    accuracy                           0.92       109\n",
      "   macro avg       0.92      0.92      0.92       109\n",
      "weighted avg       0.92      0.92      0.92       109\n",
      "\n",
      "Accuracy of Decision Tree: 0.9083\n",
      "--------------------------------------------------\n",
      "              precision    recall  f1-score   support\n",
      "\n",
      "           0       0.89      0.93      0.91        55\n",
      "           1       0.92      0.89      0.91        54\n",
      "\n",
      "    accuracy                           0.91       109\n",
      "   macro avg       0.91      0.91      0.91       109\n",
      "weighted avg       0.91      0.91      0.91       109\n",
      "\n"
     ]
    },
    {
     "name": "stderr",
     "output_type": "stream",
     "text": [
      "c:\\Users\\Bartek\\Desktop\\Predictive-Analysis\\.venv\\Lib\\site-packages\\sklearn\\linear_model\\_logistic.py:469: ConvergenceWarning: lbfgs failed to converge (status=1):\n",
      "STOP: TOTAL NO. of ITERATIONS REACHED LIMIT.\n",
      "\n",
      "Increase the number of iterations (max_iter) or scale the data as shown in:\n",
      "    https://scikit-learn.org/stable/modules/preprocessing.html\n",
      "Please also refer to the documentation for alternative solver options:\n",
      "    https://scikit-learn.org/stable/modules/linear_model.html#logistic-regression\n",
      "  n_iter_i = _check_optimize_result(\n"
     ]
    },
    {
     "name": "stdout",
     "output_type": "stream",
     "text": [
      "Accuracy of Random Forest: 0.9174\n",
      "--------------------------------------------------\n",
      "              precision    recall  f1-score   support\n",
      "\n",
      "           0       0.91      0.93      0.92        55\n",
      "           1       0.92      0.91      0.92        54\n",
      "\n",
      "    accuracy                           0.92       109\n",
      "   macro avg       0.92      0.92      0.92       109\n",
      "weighted avg       0.92      0.92      0.92       109\n",
      "\n",
      "Accuracy of Decision Tree: 0.8899\n",
      "--------------------------------------------------\n",
      "              precision    recall  f1-score   support\n",
      "\n",
      "           0       0.86      0.93      0.89        55\n",
      "           1       0.92      0.85      0.88        54\n",
      "\n",
      "    accuracy                           0.89       109\n",
      "   macro avg       0.89      0.89      0.89       109\n",
      "weighted avg       0.89      0.89      0.89       109\n",
      "\n"
     ]
    },
    {
     "name": "stderr",
     "output_type": "stream",
     "text": [
      "c:\\Users\\Bartek\\Desktop\\Predictive-Analysis\\.venv\\Lib\\site-packages\\sklearn\\linear_model\\_logistic.py:469: ConvergenceWarning: lbfgs failed to converge (status=1):\n",
      "STOP: TOTAL NO. of ITERATIONS REACHED LIMIT.\n",
      "\n",
      "Increase the number of iterations (max_iter) or scale the data as shown in:\n",
      "    https://scikit-learn.org/stable/modules/preprocessing.html\n",
      "Please also refer to the documentation for alternative solver options:\n",
      "    https://scikit-learn.org/stable/modules/linear_model.html#logistic-regression\n",
      "  n_iter_i = _check_optimize_result(\n"
     ]
    },
    {
     "name": "stdout",
     "output_type": "stream",
     "text": [
      "Accuracy of Random Forest: 0.9174\n",
      "--------------------------------------------------\n",
      "              precision    recall  f1-score   support\n",
      "\n",
      "           0       0.91      0.93      0.92        55\n",
      "           1       0.92      0.91      0.92        54\n",
      "\n",
      "    accuracy                           0.92       109\n",
      "   macro avg       0.92      0.92      0.92       109\n",
      "weighted avg       0.92      0.92      0.92       109\n",
      "\n",
      "Accuracy of Decision Tree: 0.9083\n",
      "--------------------------------------------------\n",
      "              precision    recall  f1-score   support\n",
      "\n",
      "           0       0.89      0.93      0.91        55\n",
      "           1       0.92      0.89      0.91        54\n",
      "\n",
      "    accuracy                           0.91       109\n",
      "   macro avg       0.91      0.91      0.91       109\n",
      "weighted avg       0.91      0.91      0.91       109\n",
      "\n"
     ]
    },
    {
     "name": "stderr",
     "output_type": "stream",
     "text": [
      "c:\\Users\\Bartek\\Desktop\\Predictive-Analysis\\.venv\\Lib\\site-packages\\sklearn\\linear_model\\_logistic.py:469: ConvergenceWarning: lbfgs failed to converge (status=1):\n",
      "STOP: TOTAL NO. of ITERATIONS REACHED LIMIT.\n",
      "\n",
      "Increase the number of iterations (max_iter) or scale the data as shown in:\n",
      "    https://scikit-learn.org/stable/modules/preprocessing.html\n",
      "Please also refer to the documentation for alternative solver options:\n",
      "    https://scikit-learn.org/stable/modules/linear_model.html#logistic-regression\n",
      "  n_iter_i = _check_optimize_result(\n"
     ]
    },
    {
     "name": "stdout",
     "output_type": "stream",
     "text": [
      "Accuracy of Random Forest: 0.9266\n",
      "--------------------------------------------------\n",
      "              precision    recall  f1-score   support\n",
      "\n",
      "           0       0.93      0.93      0.93        55\n",
      "           1       0.93      0.93      0.93        54\n",
      "\n",
      "    accuracy                           0.93       109\n",
      "   macro avg       0.93      0.93      0.93       109\n",
      "weighted avg       0.93      0.93      0.93       109\n",
      "\n",
      "Accuracy of Decision Tree: 0.9083\n",
      "--------------------------------------------------\n",
      "              precision    recall  f1-score   support\n",
      "\n",
      "           0       0.89      0.93      0.91        55\n",
      "           1       0.92      0.89      0.91        54\n",
      "\n",
      "    accuracy                           0.91       109\n",
      "   macro avg       0.91      0.91      0.91       109\n",
      "weighted avg       0.91      0.91      0.91       109\n",
      "\n",
      "Accuracy of Random Forest: 0.9358\n",
      "--------------------------------------------------\n",
      "              precision    recall  f1-score   support\n",
      "\n",
      "           0       0.94      0.93      0.94        55\n",
      "           1       0.93      0.94      0.94        54\n",
      "\n",
      "    accuracy                           0.94       109\n",
      "   macro avg       0.94      0.94      0.94       109\n",
      "weighted avg       0.94      0.94      0.94       109\n",
      "\n"
     ]
    },
    {
     "name": "stderr",
     "output_type": "stream",
     "text": [
      "c:\\Users\\Bartek\\Desktop\\Predictive-Analysis\\.venv\\Lib\\site-packages\\sklearn\\linear_model\\_logistic.py:469: ConvergenceWarning: lbfgs failed to converge (status=1):\n",
      "STOP: TOTAL NO. of ITERATIONS REACHED LIMIT.\n",
      "\n",
      "Increase the number of iterations (max_iter) or scale the data as shown in:\n",
      "    https://scikit-learn.org/stable/modules/preprocessing.html\n",
      "Please also refer to the documentation for alternative solver options:\n",
      "    https://scikit-learn.org/stable/modules/linear_model.html#logistic-regression\n",
      "  n_iter_i = _check_optimize_result(\n"
     ]
    }
   ],
   "source": [
    "from sklearn.model_selection import train_test_split\n",
    "from sklearn.linear_model import LogisticRegression\n",
    "from sklearn.tree import DecisionTreeClassifier\n",
    "from sklearn.ensemble import RandomForestClassifier\n",
    "from sklearn.svm import SVC\n",
    "from sklearn.neighbors import KNeighborsClassifier\n",
    "from sklearn.metrics import accuracy_score\n",
    "import matplotlib.pyplot as plt\n",
    "\n",
    "classifiers = {\n",
    "    \"Logistic Regression\": LogisticRegression(),\n",
    "    \"Decision Tree\": DecisionTreeClassifier(),\n",
    "    \"Random Forest\": RandomForestClassifier(),\n",
    "    \"Support Vector Machine\": SVC(),\n",
    "    \"K-Nearest Neighbors\": KNeighborsClassifier()\n",
    "}\n",
    "\n",
    "\n",
    "\n",
    "for data in resampled_databases:\n",
    "    for _ in range(10):\n",
    "        X = data.drop(columns=['Loan_Status'])  # Assuming 'target_column' is your target variable\n",
    "        y = data['Loan_Status']  # Assuming 'target_column' is your target variable\n",
    "\n",
    "        # Split the dataset into training and testing sets\n",
    "        X_train, X_test, y_train, y_test = train_test_split(X, y, test_size=0.2, random_state=42)\n",
    "\n",
    "        # Define a list of classifiers to test\n",
    "\n",
    "\n",
    "        # Train and test each classifier\n",
    "        for clf_name, clf in classifiers.items():\n",
    "            #print(f\"Training and testing {clf_name}...\")\n",
    "            clf.fit(X_train, y_train)\n",
    "            y_pred = clf.predict(X_test)\n",
    "            accuracy = accuracy_score(y_test, y_pred)\n",
    "            if accuracy > 0.8:\n",
    "                print(f\"Accuracy of {clf_name}: {accuracy:.4f}\")\n",
    "                print(\"-\" * 50)\n",
    "                print(classification_report(y_test, y_pred))"
   ]
  },
  {
   "cell_type": "markdown",
   "metadata": {},
   "source": []
  }
 ],
 "metadata": {
  "kernelspec": {
   "display_name": ".venv",
   "language": "python",
   "name": "python3"
  },
  "language_info": {
   "codemirror_mode": {
    "name": "ipython",
    "version": 3
   },
   "file_extension": ".py",
   "mimetype": "text/x-python",
   "name": "python",
   "nbconvert_exporter": "python",
   "pygments_lexer": "ipython3",
   "version": "3.12.2"
  }
 },
 "nbformat": 4,
 "nbformat_minor": 2
}
