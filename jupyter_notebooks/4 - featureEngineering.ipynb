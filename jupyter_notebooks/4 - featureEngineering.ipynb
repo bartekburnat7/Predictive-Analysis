{
 "cells": [
  {
   "cell_type": "markdown",
   "metadata": {},
   "source": [
    "## Change Working Directory"
   ]
  },
  {
   "cell_type": "markdown",
   "metadata": {},
   "source": [
    "The notebooks are stored in a subfolder, therefore when running the notebook in the editor, we need to change the working directory from its current folder to its parent folder\n",
    "\n",
    "We access the current directory with os.getcwd()"
   ]
  },
  {
   "cell_type": "code",
   "execution_count": 1,
   "metadata": {},
   "outputs": [
    {
     "data": {
      "text/plain": [
       "'c:\\\\Users\\\\Bartek\\\\Desktop\\\\Predictive-Analysis\\\\jupyter_notebooks'"
      ]
     },
     "execution_count": 1,
     "metadata": {},
     "output_type": "execute_result"
    }
   ],
   "source": [
    "import os\n",
    "current_dir = os.getcwd()\n",
    "current_dir"
   ]
  },
  {
   "cell_type": "markdown",
   "metadata": {},
   "source": [
    "- We use os.path.dirname() to get the parent directory\n",
    "- Then we call the os.chir() function, which defines the new current directory"
   ]
  },
  {
   "cell_type": "code",
   "execution_count": 2,
   "metadata": {},
   "outputs": [
    {
     "name": "stdout",
     "output_type": "stream",
     "text": [
      "You set a new current directory\n"
     ]
    }
   ],
   "source": [
    "os.chdir(os.path.dirname(current_dir))\n",
    "print(\"You set a new current directory\")"
   ]
  },
  {
   "cell_type": "markdown",
   "metadata": {},
   "source": [
    "Confirm the new current directory"
   ]
  },
  {
   "cell_type": "markdown",
   "metadata": {},
   "source": [
    "# Load Data"
   ]
  },
  {
   "cell_type": "code",
   "execution_count": 3,
   "metadata": {},
   "outputs": [],
   "source": [
    "import pandas as pd\n",
    "loan_data_drop = pd.read_csv(\"outputs/loan_data_drop.csv\")\n",
    "loan_data_mean = pd.read_csv(\"outputs/loan_data_mean.csv\")\n",
    "\n",
    "databases = [loan_data_drop, loan_data_mean]"
   ]
  },
  {
   "cell_type": "markdown",
   "metadata": {},
   "source": [
    "We noticed that the database consists of objects and some float/int values. We will need to convert these values so that we can run a machine learning algorithms on the data."
   ]
  },
  {
   "cell_type": "code",
   "execution_count": 4,
   "metadata": {},
   "outputs": [
    {
     "name": "stdout",
     "output_type": "stream",
     "text": [
      "<class 'pandas.core.frame.DataFrame'>\n",
      "RangeIndex: 381 entries, 0 to 380\n",
      "Data columns (total 13 columns):\n",
      " #   Column             Non-Null Count  Dtype  \n",
      "---  ------             --------------  -----  \n",
      " 0   Loan_ID            381 non-null    object \n",
      " 1   Gender             381 non-null    int64  \n",
      " 2   Married            381 non-null    int64  \n",
      " 3   Dependents         381 non-null    int64  \n",
      " 4   Education          381 non-null    int64  \n",
      " 5   Self_Employed      381 non-null    int64  \n",
      " 6   ApplicantIncome    381 non-null    int64  \n",
      " 7   CoapplicantIncome  381 non-null    float64\n",
      " 8   LoanAmount         381 non-null    float64\n",
      " 9   Loan_Amount_Term   381 non-null    float64\n",
      " 10  Credit_History     381 non-null    float64\n",
      " 11  Property_Area      381 non-null    int64  \n",
      " 12  Loan_Status        381 non-null    int64  \n",
      "dtypes: float64(4), int64(8), object(1)\n",
      "memory usage: 38.8+ KB\n",
      "<class 'pandas.core.frame.DataFrame'>\n",
      "RangeIndex: 381 entries, 0 to 380\n",
      "Data columns (total 13 columns):\n",
      " #   Column             Non-Null Count  Dtype  \n",
      "---  ------             --------------  -----  \n",
      " 0   Loan_ID            381 non-null    object \n",
      " 1   Gender             381 non-null    int64  \n",
      " 2   Married            381 non-null    int64  \n",
      " 3   Dependents         381 non-null    int64  \n",
      " 4   Education          381 non-null    int64  \n",
      " 5   Self_Employed      381 non-null    int64  \n",
      " 6   ApplicantIncome    381 non-null    int64  \n",
      " 7   CoapplicantIncome  381 non-null    float64\n",
      " 8   LoanAmount         381 non-null    float64\n",
      " 9   Loan_Amount_Term   381 non-null    float64\n",
      " 10  Credit_History     381 non-null    float64\n",
      " 11  Property_Area      381 non-null    int64  \n",
      " 12  Loan_Status        381 non-null    int64  \n",
      "dtypes: float64(4), int64(8), object(1)\n",
      "memory usage: 38.8+ KB\n"
     ]
    }
   ],
   "source": [
    "for loan_data in databases:\n",
    "    loan_data['Married'] = loan_data['Married'].map({'No': 0, 'Yes': 1})\n",
    "    loan_data['Gender'] = loan_data['Gender'].map({'Female': 0, 'Male': 1})\n",
    "    loan_data['Education'] = loan_data['Education'].map({'Not Graduate': 0, 'Graduate': 1})\n",
    "    loan_data['Self_Employed'] = loan_data['Self_Employed'].map({'No': 0, 'Yes': 1})\n",
    "    loan_data['Property_Area'] = loan_data['Property_Area'].map({'Rural': 0, 'Semiurban': 1, 'Urban': 2})\n",
    "    loan_data['Loan_Status'] = loan_data['Loan_Status'].map({'N': 0, 'Y': 1})\n",
    "    loan_data['Dependents'] = loan_data['Dependents'].map({'0': 0, '1' : 1, '2': 1, '3+': 2})\n",
    "    loan_data.info()\n",
    "    loan_data.head()"
   ]
  },
  {
   "cell_type": "markdown",
   "metadata": {},
   "source": [
    "There was too many accepted loans in the database therefore we need to make the dataset balanced so that we prevent the model to over fitting to one variable. This code utilizes the RandomOverSampler from the imbalanced-learn library to address class imbalance in machine learning datasets. It iterates through a list of databases, drops unnecessary columns, performs oversampling, and constructs resampled datasets, appending them to a list for further analysis."
   ]
  },
  {
   "cell_type": "code",
   "execution_count": 5,
   "metadata": {},
   "outputs": [
    {
     "data": {
      "image/png": "[encoded data removed]",
      "text/plain": [
       "<Figure size 640x480 with 1 Axes>"
      ]
     },
     "metadata": {},
     "output_type": "display_data"
    }
   ],
   "source": [
    "from sklearn.metrics import classification_report\n",
    "from imblearn.over_sampling import RandomOverSampler\n",
    "import matplotlib.pyplot as plt\n",
    "\n",
    "ros = RandomOverSampler(random_state=42)\n",
    "\n",
    "resampled_databases = []\n",
    "for data in databases:\n",
    "    data.drop(columns=['Loan_ID'], inplace=True)\n",
    "    X = data.drop(columns=['Loan_Status'])\n",
    "    y = data['Loan_Status']\n",
    "    X_resampled, y_resampled = ros.fit_resample(X, y)\n",
    "    resampled_data = pd.concat([pd.DataFrame(X_resampled),\n",
    "                                pd.DataFrame(y_resampled,columns=['Loan_Status'])], axis=1)\n",
    "    resampled_databases.append(resampled_data)\n",
    "\n",
    "resampled_data['Loan_Status'].value_counts().plot(kind='bar')\n",
    "plt.xlabel('Loan_Status')\n",
    "plt.ylabel('Count')\n",
    "plt.title('Loan_Status Distribution')\n",
    "plt.show()\n",
    "\n"
   ]
  },
  {
   "cell_type": "markdown",
   "metadata": {},
   "source": [
    "Resample datasets and evaluate the performance of multiple classifiers, including Logistic Regression, Decision Tree, Random Forest, Support Vector Machine, and K-Nearest Neighbors, on each dataset. I will prepare the data by extracting features and target variables, splits the dataset into training and testing sets, trains each classifier on the training data, and evaluates its accuracy on the test set. If a classifier achieves an accuracy greater than 0.8, it prints out the classifier's name and its corresponding accuracy. This process helps identify classifiers that perform well on imbalanced datasets, particularly after applying resampling techniques to address class imbalances."
   ]
  },
  {
   "cell_type": "code",
   "execution_count": 6,
   "metadata": {},
   "outputs": [
    {
     "name": "stderr",
     "output_type": "stream",
     "text": [
      "c:\\Users\\Bartek\\Desktop\\Predictive-Analysis\\.venv\\Lib\\site-packages\\sklearn\\linear_model\\_logistic.py:469: ConvergenceWarning: lbfgs failed to converge (status=1):\n",
      "STOP: TOTAL NO. of ITERATIONS REACHED LIMIT.\n",
      "\n",
      "Increase the number of iterations (max_iter) or scale the data as shown in:\n",
      "    https://scikit-learn.org/stable/modules/preprocessing.html\n",
      "Please also refer to the documentation for alternative solver options:\n",
      "    https://scikit-learn.org/stable/modules/linear_model.html#logistic-regression\n",
      "  n_iter_i = _check_optimize_result(\n"
     ]
    },
    {
     "name": "stdout",
     "output_type": "stream",
     "text": [
      "Accuracy of Decision Tree: 0.9083\n",
      "--------------------------------------------------\n",
      "              precision    recall  f1-score   support\n",
      "\n",
      "           0       0.89      0.93      0.91        55\n",
      "           1       0.92      0.89      0.91        54\n",
      "\n",
      "    accuracy                           0.91       109\n",
      "   macro avg       0.91      0.91      0.91       109\n",
      "weighted avg       0.91      0.91      0.91       109\n",
      "\n",
      "Accuracy of Random Forest: 0.9358\n",
      "--------------------------------------------------\n",
      "              precision    recall  f1-score   support\n",
      "\n",
      "           0       0.94      0.93      0.94        55\n",
      "           1       0.93      0.94      0.94        54\n",
      "\n",
      "    accuracy                           0.94       109\n",
      "   macro avg       0.94      0.94      0.94       109\n",
      "weighted avg       0.94      0.94      0.94       109\n",
      "\n"
     ]
    },
    {
     "name": "stderr",
     "output_type": "stream",
     "text": [
      "c:\\Users\\Bartek\\Desktop\\Predictive-Analysis\\.venv\\Lib\\site-packages\\sklearn\\linear_model\\_logistic.py:469: ConvergenceWarning: lbfgs failed to converge (status=1):\n",
      "STOP: TOTAL NO. of ITERATIONS REACHED LIMIT.\n",
      "\n",
      "Increase the number of iterations (max_iter) or scale the data as shown in:\n",
      "    https://scikit-learn.org/stable/modules/preprocessing.html\n",
      "Please also refer to the documentation for alternative solver options:\n",
      "    https://scikit-learn.org/stable/modules/linear_model.html#logistic-regression\n",
      "  n_iter_i = _check_optimize_result(\n"
     ]
    },
    {
     "name": "stdout",
     "output_type": "stream",
     "text": [
      "Accuracy of Decision Tree: 0.8991\n",
      "--------------------------------------------------\n",
      "              precision    recall  f1-score   support\n",
      "\n",
      "           0       0.88      0.93      0.90        55\n",
      "           1       0.92      0.87      0.90        54\n",
      "\n",
      "    accuracy                           0.90       109\n",
      "   macro avg       0.90      0.90      0.90       109\n",
      "weighted avg       0.90      0.90      0.90       109\n",
      "\n",
      "Accuracy of Random Forest: 0.9174\n",
      "--------------------------------------------------\n",
      "              precision    recall  f1-score   support\n",
      "\n",
      "           0       0.91      0.93      0.92        55\n",
      "           1       0.92      0.91      0.92        54\n",
      "\n",
      "    accuracy                           0.92       109\n",
      "   macro avg       0.92      0.92      0.92       109\n",
      "weighted avg       0.92      0.92      0.92       109\n",
      "\n"
     ]
    }
   ],
   "source": [
    "from sklearn.model_selection import train_test_split\n",
    "from sklearn.linear_model import LogisticRegression\n",
    "from sklearn.tree import DecisionTreeClassifier\n",
    "from sklearn.ensemble import RandomForestClassifier\n",
    "from sklearn.svm import SVC\n",
    "from sklearn.neighbors import KNeighborsClassifier\n",
    "from sklearn.metrics import accuracy_score\n",
    "import matplotlib.pyplot as plt\n",
    "\n",
    "# Define a list of classifiers to test\n",
    "classifiers = {\n",
    "    \"Logistic Regression\": LogisticRegression(),\n",
    "    \"Decision Tree\": DecisionTreeClassifier(),\n",
    "    \"Random Forest\": RandomForestClassifier(),\n",
    "    \"Support Vector Machine\": SVC(),\n",
    "    \"K-Nearest Neighbors\": KNeighborsClassifier()\n",
    "}\n",
    "\n",
    "\n",
    "\n",
    "for data in resampled_databases:\n",
    "    X = data.drop(columns=['Loan_Status'])  # Assuming 'target_column' is your target variable\n",
    "    y = data['Loan_Status']  # Assuming 'target_column' is your target variable\n",
    "\n",
    "    # Split the dataset into training and testing sets\n",
    "    X_train, X_test, y_train, y_test = train_test_split(X, y, test_size=0.2, random_state=42)\n",
    "\n",
    "    # Train and test each classifier\n",
    "    for clf_name, clf in classifiers.items():\n",
    "        #print(f\"Training and testing {clf_name}...\")\n",
    "        clf.fit(X_train, y_train)\n",
    "        y_pred = clf.predict(X_test)\n",
    "        accuracy = accuracy_score(y_test, y_pred)\n",
    "        if accuracy > 0.8:\n",
    "            print(f\"Accuracy of {clf_name}: {accuracy:.4f}\")\n",
    "            print(\"-\" * 50)\n",
    "            print(classification_report(y_test, y_pred))"
   ]
  },
  {
   "cell_type": "markdown",
   "metadata": {},
   "source": [
    "\n",
    "\n",
    "This code loads a dataset named loan_data from a CSV file, converts the `Loan_Status` column values from 'Y' and 'N' to 1 and 0 respectively. Then, it identifies numerical columns in the dataset and calculates the Spearman correlation coefficients between these numerical columns and the 'Loan_Status' column, selecting the top 10 most correlated features (excluding the 'Loan_Status' column itself). Next, it creates a list of the top 3 most positively and negatively correlated features with the 'Loan_Status' column, and filters the original datasets in resampled_databases to only include these selected features along with the `Loan_Status` column. Finally, it stores these filtered datasets in the filtered_loan_databases list and displays the result."
   ]
  },
  {
   "cell_type": "code",
   "execution_count": 44,
   "metadata": {},
   "outputs": [
    {
     "data": {
      "text/plain": [
       "[     Credit_History  CoapplicantIncome  LoanAmount  Loan_Status\n",
       " 0          1.000000             1508.0       128.0            0\n",
       " 1          1.000000                0.0        66.0            1\n",
       " 2          1.000000             2358.0       120.0            1\n",
       " 3          1.000000                0.0       141.0            1\n",
       " 4          1.000000             1516.0        95.0            1\n",
       " ..              ...                ...         ...          ...\n",
       " 537        0.000000                0.0        66.0            0\n",
       " 538        1.000000                0.0        71.0            0\n",
       " 539        0.000000             4266.0       132.0            0\n",
       " 540        1.000000                0.0         9.0            0\n",
       " 541        0.837607                0.0       128.0            0\n",
       " \n",
       " [542 rows x 4 columns],\n",
       "      Credit_History  CoapplicantIncome  LoanAmount  Loan_Status\n",
       " 0          1.000000             1508.0       128.0            0\n",
       " 1          1.000000                0.0        66.0            1\n",
       " 2          1.000000             2358.0       120.0            1\n",
       " 3          1.000000                0.0       141.0            1\n",
       " 4          1.000000             1516.0        95.0            1\n",
       " ..              ...                ...         ...          ...\n",
       " 537        0.000000                0.0        66.0            0\n",
       " 538        1.000000                0.0        71.0            0\n",
       " 539        0.000000             4266.0       132.0            0\n",
       " 540        1.000000                0.0         9.0            0\n",
       " 541        0.837607                0.0       128.0            0\n",
       " \n",
       " [542 rows x 4 columns]]"
      ]
     },
     "execution_count": 44,
     "metadata": {},
     "output_type": "execute_result"
    }
   ],
   "source": [
    "loan_data = pd.read_csv(\"outputs/loan_data.csv\")\n",
    "loan_data['Loan_Status'] = loan_data['Loan_Status'].map({'Y': 1, 'N': 0})\n",
    "numerical_columns = loan_data.select_dtypes(include=['float', 'int']).columns\n",
    "corr_spearman = loan_data[numerical_columns].corr(method='spearman')['Loan_Status'].sort_values(key=abs, ascending=False)[1:].head(10)\n",
    "import_variables = list(set(corr_spearman[:3].index.to_list() + corr_spearman[:3].index.to_list()))\n",
    "filtered_loan_databases = []\n",
    "\n",
    "for loan_data in resampled_databases:\n",
    "    filtered_loan_databases.append(loan_data[import_variables + ['Loan_Status']])\n",
    "\n",
    "filtered_loan_databases\n"
   ]
  },
  {
   "cell_type": "code",
   "execution_count": 47,
   "metadata": {},
   "outputs": [
    {
     "name": "stdout",
     "output_type": "stream",
     "text": [
      "Accuracy of Decision Tree: 0.8349\n",
      "--------------------------------------------------\n",
      "              precision    recall  f1-score   support\n",
      "\n",
      "           0       0.79      0.91      0.85        55\n",
      "           1       0.89      0.76      0.82        54\n",
      "\n",
      "    accuracy                           0.83       109\n",
      "   macro avg       0.84      0.83      0.83       109\n",
      "weighted avg       0.84      0.83      0.83       109\n",
      "\n",
      "Accuracy of Random Forest: 0.8716\n",
      "--------------------------------------------------\n",
      "              precision    recall  f1-score   support\n",
      "\n",
      "           0       0.85      0.91      0.88        55\n",
      "           1       0.90      0.83      0.87        54\n",
      "\n",
      "    accuracy                           0.87       109\n",
      "   macro avg       0.87      0.87      0.87       109\n",
      "weighted avg       0.87      0.87      0.87       109\n",
      "\n",
      "Accuracy of Decision Tree: 0.8349\n",
      "--------------------------------------------------\n",
      "              precision    recall  f1-score   support\n",
      "\n",
      "           0       0.79      0.91      0.85        55\n",
      "           1       0.89      0.76      0.82        54\n",
      "\n",
      "    accuracy                           0.83       109\n",
      "   macro avg       0.84      0.83      0.83       109\n",
      "weighted avg       0.84      0.83      0.83       109\n",
      "\n",
      "Accuracy of Random Forest: 0.8532\n",
      "--------------------------------------------------\n",
      "              precision    recall  f1-score   support\n",
      "\n",
      "           0       0.82      0.91      0.86        55\n",
      "           1       0.90      0.80      0.84        54\n",
      "\n",
      "    accuracy                           0.85       109\n",
      "   macro avg       0.86      0.85      0.85       109\n",
      "weighted avg       0.86      0.85      0.85       109\n",
      "\n"
     ]
    }
   ],
   "source": [
    "for data in filtered_loan_databases:\n",
    "    X = data.drop(columns=['Loan_Status'])  # Assuming 'target_column' is your target variable\n",
    "    y = data['Loan_Status']  # Assuming 'target_column' is your target variable\n",
    "\n",
    "    # Split the dataset into training and testing sets\n",
    "    X_train, X_test, y_train, y_test = train_test_split(X, y, test_size=0.2, random_state=42)\n",
    "\n",
    "    # Define a list of classifiers to test\n",
    "\n",
    "\n",
    "    # Train and test each classifier\n",
    "    for clf_name, clf in classifiers.items():\n",
    "        #print(f\"Training and testing {clf_name}...\")\n",
    "        clf.fit(X_train, y_train)\n",
    "        y_pred = clf.predict(X_test)\n",
    "        accuracy = accuracy_score(y_test, y_pred)\n",
    "        if accuracy > 0.8:\n",
    "            print(f\"Accuracy of {clf_name}: {accuracy:.4f}\")\n",
    "            print(\"-\" * 50)\n",
    "            print(classification_report(y_test, y_pred))"
   ]
  },
  {
   "cell_type": "markdown",
   "metadata": {},
   "source": [
    "Utilizing the most correlated columns resulted in a notable decrease in the model's accuracy, underscoring the substantial impact even non-correlated columns have on the determination of whether a loan should be accepted."
   ]
  },
  {
   "cell_type": "markdown",
   "metadata": {},
   "source": [
    "## Conclusion\n",
    "\n",
    "After testing multiple ML model on different databases i have to conclusion that the best model for the problem is the `Random Forest` on the `loan_data_drop` database, with an accuracy score of 0.9358 percent."
   ]
  }
 ],
 "metadata": {
  "kernelspec": {
   "display_name": ".venv",
   "language": "python",
   "name": "python3"
  },
  "language_info": {
   "codemirror_mode": {
    "name": "ipython",
    "version": 3
   },
   "file_extension": ".py",
   "mimetype": "text/x-python",
   "name": "python",
   "nbconvert_exporter": "python",
   "pygments_lexer": "ipython3",
   "version": "3.12.2"
  }
 },
 "nbformat": 4,
 "nbformat_minor": 2
}
